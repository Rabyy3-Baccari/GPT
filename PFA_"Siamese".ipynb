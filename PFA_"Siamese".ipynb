{
  "cells": [
    {
      "cell_type": "markdown",
      "metadata": {
        "id": "view-in-github",
        "colab_type": "text"
      },
      "source": [
        "<a href=\"https://colab.research.google.com/github/SaNcH00PaNzA/GPT/blob/main/PFA_%22Siamese%22.ipynb\" target=\"_parent\"><img src=\"https://colab.research.google.com/assets/colab-badge.svg\" alt=\"Open In Colab\"/></a>"
      ]
    },
    {
      "cell_type": "markdown",
      "metadata": {
        "id": "hAu-ZjXXOhM4"
      },
      "source": [
        "Installing deps"
      ]
    },
    {
      "cell_type": "markdown",
      "source": [
        "# Installing and Importing Dependencies"
      ],
      "metadata": {
        "id": "08Wg7PAMsKql"
      }
    },
    {
      "cell_type": "code",
      "execution_count": null,
      "metadata": {
        "colab": {
          "base_uri": "https://localhost:8080/"
        },
        "id": "sQhYJzBIOTZm",
        "outputId": "339fcdff-f708-4f7f-9dca-3de3b497f5f6"
      },
      "outputs": [
        {
          "output_type": "stream",
          "name": "stdout",
          "text": [
            "Looking in indexes: https://pypi.org/simple, https://us-python.pkg.dev/colab-wheels/public/simple/\n",
            "Requirement already satisfied: tensorflow in /usr/local/lib/python3.9/dist-packages (2.12.0)\n",
            "Requirement already satisfied: opencv-python in /usr/local/lib/python3.9/dist-packages (4.7.0.72)\n",
            "Requirement already satisfied: matplotlib in /usr/local/lib/python3.9/dist-packages (3.7.1)\n",
            "Requirement already satisfied: six>=1.12.0 in /usr/local/lib/python3.9/dist-packages (from tensorflow) (1.16.0)\n",
            "Requirement already satisfied: packaging in /usr/local/lib/python3.9/dist-packages (from tensorflow) (23.1)\n",
            "Requirement already satisfied: jax>=0.3.15 in /usr/local/lib/python3.9/dist-packages (from tensorflow) (0.4.8)\n",
            "Requirement already satisfied: tensorflow-io-gcs-filesystem>=0.23.1 in /usr/local/lib/python3.9/dist-packages (from tensorflow) (0.32.0)\n",
            "Requirement already satisfied: wrapt<1.15,>=1.11.0 in /usr/local/lib/python3.9/dist-packages (from tensorflow) (1.14.1)\n",
            "Requirement already satisfied: absl-py>=1.0.0 in /usr/local/lib/python3.9/dist-packages (from tensorflow) (1.4.0)\n",
            "Requirement already satisfied: protobuf!=4.21.0,!=4.21.1,!=4.21.2,!=4.21.3,!=4.21.4,!=4.21.5,<5.0.0dev,>=3.20.3 in /usr/local/lib/python3.9/dist-packages (from tensorflow) (3.20.3)\n",
            "Requirement already satisfied: h5py>=2.9.0 in /usr/local/lib/python3.9/dist-packages (from tensorflow) (3.8.0)\n",
            "Requirement already satisfied: numpy<1.24,>=1.22 in /usr/local/lib/python3.9/dist-packages (from tensorflow) (1.22.4)\n",
            "Requirement already satisfied: libclang>=13.0.0 in /usr/local/lib/python3.9/dist-packages (from tensorflow) (16.0.0)\n",
            "Requirement already satisfied: termcolor>=1.1.0 in /usr/local/lib/python3.9/dist-packages (from tensorflow) (2.2.0)\n",
            "Requirement already satisfied: gast<=0.4.0,>=0.2.1 in /usr/local/lib/python3.9/dist-packages (from tensorflow) (0.4.0)\n",
            "Requirement already satisfied: grpcio<2.0,>=1.24.3 in /usr/local/lib/python3.9/dist-packages (from tensorflow) (1.53.0)\n",
            "Requirement already satisfied: flatbuffers>=2.0 in /usr/local/lib/python3.9/dist-packages (from tensorflow) (23.3.3)\n",
            "Requirement already satisfied: opt-einsum>=2.3.2 in /usr/local/lib/python3.9/dist-packages (from tensorflow) (3.3.0)\n",
            "Requirement already satisfied: keras<2.13,>=2.12.0 in /usr/local/lib/python3.9/dist-packages (from tensorflow) (2.12.0)\n",
            "Requirement already satisfied: typing-extensions>=3.6.6 in /usr/local/lib/python3.9/dist-packages (from tensorflow) (4.5.0)\n",
            "Requirement already satisfied: google-pasta>=0.1.1 in /usr/local/lib/python3.9/dist-packages (from tensorflow) (0.2.0)\n",
            "Requirement already satisfied: tensorflow-estimator<2.13,>=2.12.0 in /usr/local/lib/python3.9/dist-packages (from tensorflow) (2.12.0)\n",
            "Requirement already satisfied: setuptools in /usr/local/lib/python3.9/dist-packages (from tensorflow) (67.7.2)\n",
            "Requirement already satisfied: tensorboard<2.13,>=2.12 in /usr/local/lib/python3.9/dist-packages (from tensorflow) (2.12.2)\n",
            "Requirement already satisfied: astunparse>=1.6.0 in /usr/local/lib/python3.9/dist-packages (from tensorflow) (1.6.3)\n",
            "Requirement already satisfied: pyparsing>=2.3.1 in /usr/local/lib/python3.9/dist-packages (from matplotlib) (3.0.9)\n",
            "Requirement already satisfied: kiwisolver>=1.0.1 in /usr/local/lib/python3.9/dist-packages (from matplotlib) (1.4.4)\n",
            "Requirement already satisfied: pillow>=6.2.0 in /usr/local/lib/python3.9/dist-packages (from matplotlib) (8.4.0)\n",
            "Requirement already satisfied: fonttools>=4.22.0 in /usr/local/lib/python3.9/dist-packages (from matplotlib) (4.39.3)\n",
            "Requirement already satisfied: importlib-resources>=3.2.0 in /usr/local/lib/python3.9/dist-packages (from matplotlib) (5.12.0)\n",
            "Requirement already satisfied: contourpy>=1.0.1 in /usr/local/lib/python3.9/dist-packages (from matplotlib) (1.0.7)\n",
            "Requirement already satisfied: python-dateutil>=2.7 in /usr/local/lib/python3.9/dist-packages (from matplotlib) (2.8.2)\n",
            "Requirement already satisfied: cycler>=0.10 in /usr/local/lib/python3.9/dist-packages (from matplotlib) (0.11.0)\n",
            "Requirement already satisfied: wheel<1.0,>=0.23.0 in /usr/local/lib/python3.9/dist-packages (from astunparse>=1.6.0->tensorflow) (0.40.0)\n",
            "Requirement already satisfied: zipp>=3.1.0 in /usr/local/lib/python3.9/dist-packages (from importlib-resources>=3.2.0->matplotlib) (3.15.0)\n",
            "Requirement already satisfied: ml-dtypes>=0.0.3 in /usr/local/lib/python3.9/dist-packages (from jax>=0.3.15->tensorflow) (0.1.0)\n",
            "Requirement already satisfied: scipy>=1.7 in /usr/local/lib/python3.9/dist-packages (from jax>=0.3.15->tensorflow) (1.10.1)\n",
            "Requirement already satisfied: tensorboard-data-server<0.8.0,>=0.7.0 in /usr/local/lib/python3.9/dist-packages (from tensorboard<2.13,>=2.12->tensorflow) (0.7.0)\n",
            "Requirement already satisfied: google-auth-oauthlib<1.1,>=0.5 in /usr/local/lib/python3.9/dist-packages (from tensorboard<2.13,>=2.12->tensorflow) (1.0.0)\n",
            "Requirement already satisfied: markdown>=2.6.8 in /usr/local/lib/python3.9/dist-packages (from tensorboard<2.13,>=2.12->tensorflow) (3.4.3)\n",
            "Requirement already satisfied: tensorboard-plugin-wit>=1.6.0 in /usr/local/lib/python3.9/dist-packages (from tensorboard<2.13,>=2.12->tensorflow) (1.8.1)\n",
            "Requirement already satisfied: requests<3,>=2.21.0 in /usr/local/lib/python3.9/dist-packages (from tensorboard<2.13,>=2.12->tensorflow) (2.27.1)\n",
            "Requirement already satisfied: google-auth<3,>=1.6.3 in /usr/local/lib/python3.9/dist-packages (from tensorboard<2.13,>=2.12->tensorflow) (2.17.3)\n",
            "Requirement already satisfied: werkzeug>=1.0.1 in /usr/local/lib/python3.9/dist-packages (from tensorboard<2.13,>=2.12->tensorflow) (2.2.3)\n",
            "Requirement already satisfied: rsa<5,>=3.1.4 in /usr/local/lib/python3.9/dist-packages (from google-auth<3,>=1.6.3->tensorboard<2.13,>=2.12->tensorflow) (4.9)\n",
            "Requirement already satisfied: cachetools<6.0,>=2.0.0 in /usr/local/lib/python3.9/dist-packages (from google-auth<3,>=1.6.3->tensorboard<2.13,>=2.12->tensorflow) (5.3.0)\n",
            "Requirement already satisfied: pyasn1-modules>=0.2.1 in /usr/local/lib/python3.9/dist-packages (from google-auth<3,>=1.6.3->tensorboard<2.13,>=2.12->tensorflow) (0.2.8)\n",
            "Requirement already satisfied: requests-oauthlib>=0.7.0 in /usr/local/lib/python3.9/dist-packages (from google-auth-oauthlib<1.1,>=0.5->tensorboard<2.13,>=2.12->tensorflow) (1.3.1)\n",
            "Requirement already satisfied: importlib-metadata>=4.4 in /usr/local/lib/python3.9/dist-packages (from markdown>=2.6.8->tensorboard<2.13,>=2.12->tensorflow) (6.4.1)\n",
            "Requirement already satisfied: charset-normalizer~=2.0.0 in /usr/local/lib/python3.9/dist-packages (from requests<3,>=2.21.0->tensorboard<2.13,>=2.12->tensorflow) (2.0.12)\n",
            "Requirement already satisfied: urllib3<1.27,>=1.21.1 in /usr/local/lib/python3.9/dist-packages (from requests<3,>=2.21.0->tensorboard<2.13,>=2.12->tensorflow) (1.26.15)\n",
            "Requirement already satisfied: idna<4,>=2.5 in /usr/local/lib/python3.9/dist-packages (from requests<3,>=2.21.0->tensorboard<2.13,>=2.12->tensorflow) (3.4)\n",
            "Requirement already satisfied: certifi>=2017.4.17 in /usr/local/lib/python3.9/dist-packages (from requests<3,>=2.21.0->tensorboard<2.13,>=2.12->tensorflow) (2022.12.7)\n",
            "Requirement already satisfied: MarkupSafe>=2.1.1 in /usr/local/lib/python3.9/dist-packages (from werkzeug>=1.0.1->tensorboard<2.13,>=2.12->tensorflow) (2.1.2)\n",
            "Requirement already satisfied: pyasn1<0.5.0,>=0.4.6 in /usr/local/lib/python3.9/dist-packages (from pyasn1-modules>=0.2.1->google-auth<3,>=1.6.3->tensorboard<2.13,>=2.12->tensorflow) (0.4.8)\n",
            "Requirement already satisfied: oauthlib>=3.0.0 in /usr/local/lib/python3.9/dist-packages (from requests-oauthlib>=0.7.0->google-auth-oauthlib<1.1,>=0.5->tensorboard<2.13,>=2.12->tensorflow) (3.2.2)\n"
          ]
        }
      ],
      "source": [
        "!pip install tensorflow opencv-python matplotlib \n"
      ]
    },
    {
      "cell_type": "markdown",
      "metadata": {
        "id": "uGBIqUImOu8h"
      },
      "source": [
        "Imports"
      ]
    },
    {
      "cell_type": "code",
      "execution_count": null,
      "metadata": {
        "id": "jooNzE5COy69"
      },
      "outputs": [],
      "source": [
        "#Standard dependencies \n",
        "import cv2 \n",
        "import os \n",
        "import random \n",
        "import numpy as np\n",
        "from matplotlib import pyplot as plt \n",
        "import uuid \n"
      ]
    },
    {
      "cell_type": "code",
      "execution_count": null,
      "metadata": {
        "id": "HExqhuGVPJeG"
      },
      "outputs": [],
      "source": [
        "#Using tensorflow functional apis \n",
        "# Importing dependencies \n",
        "from tensorflow.keras.models import Model \n",
        "from tensorflow.keras.layers import Layer, Conv2D,Dense, MaxPooling2D, Input,Flatten\n",
        "import tensorflow as tf \n",
        "from google.colab.patches import cv2_imshow"
      ]
    },
    {
      "cell_type": "markdown",
      "source": [
        "# Preparing The Data "
      ],
      "metadata": {
        "id": "IjHb4L2-rxTR"
      }
    },
    {
      "cell_type": "markdown",
      "source": [
        "Negative Dataset"
      ],
      "metadata": {
        "id": "uPEQWgHTsb01"
      }
    },
    {
      "cell_type": "code",
      "source": [
        "#Downloading the dataset of negative faces\n",
        "!wget http://vis-www.cs.umass.edu/lfw/lfw.tgz\n",
        "#Uncompressing\n",
        "!tar -xf lfw.tgz "
      ],
      "metadata": {
        "colab": {
          "base_uri": "https://localhost:8080/"
        },
        "id": "eZPxq07BiibV",
        "outputId": "4c737e02-98b8-4546-a71e-23ac9ff138c9"
      },
      "execution_count": null,
      "outputs": [
        {
          "output_type": "stream",
          "name": "stdout",
          "text": [
            "--2023-04-26 14:14:21--  http://vis-www.cs.umass.edu/lfw/lfw.tgz\n",
            "Resolving vis-www.cs.umass.edu (vis-www.cs.umass.edu)... 128.119.244.95\n",
            "Connecting to vis-www.cs.umass.edu (vis-www.cs.umass.edu)|128.119.244.95|:80... connected.\n",
            "HTTP request sent, awaiting response... 200 OK\n",
            "Length: 180566744 (172M) [application/x-gzip]\n",
            "Saving to: ‘lfw.tgz’\n",
            "\n",
            "lfw.tgz             100%[===================>] 172.20M   101MB/s    in 1.7s    \n",
            "\n",
            "2023-04-26 14:14:23 (101 MB/s) - ‘lfw.tgz’ saved [180566744/180566744]\n",
            "\n"
          ]
        }
      ]
    },
    {
      "cell_type": "code",
      "execution_count": null,
      "metadata": {
        "id": "jkl3e4G2Rva5"
      },
      "outputs": [],
      "source": [
        "# Setup paths \n",
        "POS_PATH= os.path.join('data','positive')\n",
        "NEG_PATH=os.path.join('data','negative')\n",
        "ANC_PATH=os.path.join('data','anchor')\n",
        "#Building the dir \n",
        "os.makedirs(POS_PATH)\n",
        "os.makedirs(NEG_PATH)\n",
        "os.makedirs(ANC_PATH)"
      ]
    },
    {
      "cell_type": "code",
      "source": [
        "#Move lfw Images to repositories \n",
        "for directory in os.listdir('lfw'):\n",
        "    for file in os.listdir(os.path.join('lfw', directory)):\n",
        "        EX_PATH = os.path.join('lfw', directory, file)\n",
        "        NEW_PATH = os.path.join(NEG_PATH, file)\n",
        "        os.replace(EX_PATH, NEW_PATH)"
      ],
      "metadata": {
        "id": "LyIH1QaqhcUi"
      },
      "execution_count": null,
      "outputs": []
    },
    {
      "cell_type": "markdown",
      "source": [
        "**Positive and anchor**"
      ],
      "metadata": {
        "id": "_5fSTNlx3sOW"
      }
    },
    {
      "cell_type": "code",
      "source": [
        "# Dowloading the positive Images\n",
        "!wget https://oshi.at/vCyW\n",
        "# Uncompressing \n",
        "!unrar e  vCyW #positive.rar \n",
        "# Transfering the dataset to its directory\n",
        "for file in os.listdir('/content'):\n",
        "  split_tup = os.path.splitext(file)\n",
        "  file_extension = split_tup[1]\n",
        "  if file_extension=='.jpg':\n",
        "    EX_PATH = os.path.join('/content', file)\n",
        "    NEW_PATH = os.path.join(POS_PATH, file)\n",
        "    os.replace(EX_PATH, NEW_PATH)\n",
        "# Dowloading the anchor Images\n",
        "!wget  https://oshi.at/Shpg\n",
        "# Uncompressing\n",
        "!unrar e  Shpg #anchor.rar\n",
        "# Transfering the dataset to its directory\n",
        "for file in os.listdir('/content'):\n",
        "  split_tup = os.path.splitext(file)\n",
        "  file_extension = split_tup[1]\n",
        "  if file_extension=='.jpg':\n",
        "    EX_PATH = os.path.join('/content', file)\n",
        "    NEW_PATH = os.path.join(ANC_PATH, file)\n",
        "    os.replace(EX_PATH, NEW_PATH)\n",
        "\n",
        "  \n"
      ],
      "metadata": {
        "id": "FSVnl2Q0iSE_",
        "colab": {
          "base_uri": "https://localhost:8080/"
        },
        "outputId": "f1017164-f36e-4548-93be-75c350954a37"
      },
      "execution_count": null,
      "outputs": [
        {
          "output_type": "stream",
          "name": "stdout",
          "text": [
            "--2023-04-26 14:14:26--  https://oshi.at/vCyW\n",
            "Resolving oshi.at (oshi.at)... 5.253.86.15, 2001:41d0:601:1100::30ad\n",
            "Connecting to oshi.at (oshi.at)|5.253.86.15|:443... connected.\n",
            "HTTP request sent, awaiting response... 200 OK\n",
            "Length: 1044928 (1020K) [application/octet-stream]\n",
            "Saving to: ‘vCyW’\n",
            "\n",
            "vCyW                100%[===================>]   1020K   473KB/s    in 2.2s    \n",
            "\n",
            "2023-04-26 14:14:39 (473 KB/s) - ‘vCyW’ saved [1044928/1044928]\n",
            "\n",
            "\n",
            "UNRAR 5.61 beta 1 freeware      Copyright (c) 1993-2018 Alexander Roshal\n",
            "\n",
            "\n",
            "Extracting from vCyW\n",
            "\n",
            "Extracting  6604bfbb-d33b-11ed-bebd-fa89d2233583.jpg                     \b\b\b\b  1%\b\b\b\b\b  OK \n",
            "Extracting  661f7245-d33b-11ed-89bf-fa89d2233583.jpg                     \b\b\b\b  3%\b\b\b\b\b  OK \n",
            "Extracting  663abe77-d33b-11ed-a487-fa89d2233583.jpg                     \b\b\b\b  5%\b\b\b\b\b  OK \n",
            "Extracting  66568eb5-d33b-11ed-8ef1-fa89d2233583.jpg                     \b\b\b\b  7%\b\b\b\b\b  OK \n",
            "Extracting  666e80fd-d33b-11ed-b79f-fa89d2233583.jpg                     \b\b\b\b  9%\b\b\b\b\b  OK \n",
            "Extracting  68488190-d33b-11ed-819c-fa89d2233583.jpg                     \b\b\b\b 11%\b\b\b\b\b  OK \n",
            "Extracting  6864f848-d33b-11ed-a6ff-fa89d2233583.jpg                     \b\b\b\b 13%\b\b\b\b\b  OK \n",
            "Extracting  68843faa-d33b-11ed-99b2-fa89d2233583.jpg                     \b\b\b\b 15%\b\b\b\b\b  OK \n",
            "Extracting  6985de14-d33b-11ed-98e8-fa89d2233583.jpg                     \b\b\b\b 17%\b\b\b\b\b  OK \n",
            "Extracting  69bdc882-d33b-11ed-bc6e-fa89d2233583.jpg                     \b\b\b\b 19%\b\b\b\b\b  OK \n",
            "Extracting  69f62bad-d33b-11ed-8e0f-fa89d2233583.jpg                     \b\b\b\b 21%\b\b\b\b\b  OK \n",
            "Extracting  6a183e1e-d33b-11ed-b3a6-fa89d2233583.jpg                     \b\b\b\b 22%\b\b\b\b\b  OK \n",
            "Extracting  6a6c3e23-d33b-11ed-b32f-fa89d2233583.jpg                     \b\b\b\b 24%\b\b\b\b\b  OK \n",
            "Extracting  6b18e869-d33b-11ed-b0c3-fa89d2233583.jpg                     \b\b\b\b 26%\b\b\b\b\b  OK \n",
            "Extracting  6c73d963-d33b-11ed-88fa-fa89d2233583.jpg                     \b\b\b\b 28%\b\b\b\b\b  OK \n",
            "Extracting  6cfd2633-d33b-11ed-abd7-fa89d2233583.jpg                     \b\b\b\b 30%\b\b\b\b\b  OK \n",
            "Extracting  6d6b7537-d33b-11ed-a7bc-fa89d2233583.jpg                     \b\b\b\b 32%\b\b\b\b\b  OK \n",
            "Extracting  6e0ff341-d33b-11ed-885e-fa89d2233583.jpg                     \b\b\b\b 34%\b\b\b\b\b  OK \n",
            "Extracting  74c6fba5-d33b-11ed-80a0-fa89d2233583.jpg                     \b\b\b\b 36%\b\b\b\b\b  OK \n",
            "Extracting  74e37132-d33b-11ed-93fd-fa89d2233583.jpg                     \b\b\b\b 38%\b\b\b\b\b  OK \n",
            "Extracting  7711905a-d33b-11ed-b75c-fa89d2233583.jpg                     \b\b\b\b 40%\b\b\b\b\b  OK \n",
            "Extracting  772f50cf-d33b-11ed-b260-fa89d2233583.jpg                     \b\b\b\b 42%\b\b\b\b\b  OK \n",
            "Extracting  774d875a-d33b-11ed-a430-fa89d2233583.jpg                     \b\b\b\b 44%\b\b\b\b\b  OK \n",
            "Extracting  792dc869-d33b-11ed-a6bf-fa89d2233583.jpg                     \b\b\b\b 46%\b\b\b\b\b  OK \n",
            "Extracting  7a69a3cf-d33b-11ed-bca0-fa89d2233583.jpg                     \b\b\b\b 47%\b\b\b\b\b  OK \n",
            "Extracting  7bf24a04-d33b-11ed-8ba2-fa89d2233583.jpg                     \b\b\b\b 49%\b\b\b\b\b  OK \n",
            "Extracting  7e4ac17a-d33b-11ed-af3e-fa89d2233583.jpg                     \b\b\b\b 51%\b\b\b\b\b  OK \n",
            "Extracting  7e62f3f5-d33b-11ed-9bdc-fa89d2233583.jpg                     \b\b\b\b 53%\b\b\b\b\b  OK \n",
            "Extracting  7fe3f613-d33b-11ed-8f3c-fa89d2233583.jpg                     \b\b\b\b 55%\b\b\b\b\b  OK \n",
            "Extracting  815d0139-d33b-11ed-8820-fa89d2233583.jpg                     \b\b\b\b 57%\b\b\b\b\b  OK \n",
            "Extracting  817c8039-d33b-11ed-b2b7-fa89d2233583.jpg                     \b\b\b\b 59%\b\b\b\b\b  OK \n",
            "Extracting  82046cf4-d33b-11ed-8044-fa89d2233583.jpg                     \b\b\b\b 61%\b\b\b\b\b  OK \n",
            "Extracting  82bdd5c9-d33b-11ed-9587-fa89d2233583.jpg                     \b\b\b\b 63%\b\b\b\b\b  OK \n",
            "Extracting  8a0441bf-d33b-11ed-b290-fa89d2233583.jpg                     \b\b\b\b 65%\b\b\b\b\b  OK \n",
            "Extracting  8bc9cbf3-d33b-11ed-a073-fa89d2233583.jpg                     \b\b\b\b 67%\b\b\b\b\b  OK \n",
            "Extracting  8be70fd1-d33b-11ed-83d6-fa89d2233583.jpg                     \b\b\b\b 69%\b\b\b\b\b  OK \n",
            "Extracting  8c7e6a24-d33b-11ed-adf5-fa89d2233583.jpg                     \b\b\b\b 71%\b\b\b\b\b  OK \n",
            "Extracting  8f2c40e4-d33b-11ed-8f4a-fa89d2233583.jpg                     \b\b\b\b 73%\b\b\b\b\b  OK \n",
            "Extracting  8fbec06b-d33b-11ed-b2a0-fa89d2233583.jpg                     \b\b\b\b 75%\b\b\b\b\b  OK \n",
            "Extracting  91d9fbe1-d33b-11ed-8a9a-fa89d2233583.jpg                     \b\b\b\b 76%\b\b\b\b\b  OK \n",
            "Extracting  91f7fc5b-d33b-11ed-8dc3-fa89d2233583.jpg                     \b\b\b\b 78%\b\b\b\b\b  OK \n",
            "Extracting  92160798-d33b-11ed-ae3d-fa89d2233583.jpg                     \b\b\b\b 80%\b\b\b\b\b  OK \n",
            "Extracting  9286319a-d33b-11ed-a528-fa89d2233583.jpg                     \b\b\b\b 82%\b\b\b\b\b  OK \n",
            "Extracting  a3bf3fa7-d33b-11ed-8c14-fa89d2233583.jpg                     \b\b\b\b 84%\b\b\b\b\b  OK \n",
            "Extracting  a5cb49e6-d33b-11ed-9d5b-fa89d2233583.jpg                     \b\b\b\b 86%\b\b\b\b\b  OK \n",
            "Extracting  a5fd5892-d33b-11ed-bf07-fa89d2233583.jpg                     \b\b\b\b 88%\b\b\b\b\b  OK \n",
            "Extracting  a8317378-d33b-11ed-af23-fa89d2233583.jpg                     \b\b\b\b 90%\b\b\b\b\b  OK \n",
            "Extracting  a87b35e8-d33b-11ed-943b-fa89d2233583.jpg                     \b\b\b\b 91%\b\b\b\b\b  OK \n",
            "Extracting  b07a02a1-d33b-11ed-8976-fa89d2233583.jpg                     \b\b\b\b 93%\b\b\b\b\b  OK \n",
            "Extracting  b0961825-d33b-11ed-a2e8-fa89d2233583.jpg                     \b\b\b\b 95%\b\b\b\b\b  OK \n",
            "Extracting  b0fa3e8d-d33b-11ed-9dd3-fa89d2233583.jpg                     \b\b\b\b 97%\b\b\b\b\b  OK \n",
            "Extracting  b114660f-d33b-11ed-9e18-fa89d2233583.jpg                     \b\b\b\b 99%\b\b\b\b\b  OK \n",
            "All OK\n",
            "--2023-04-26 14:14:39--  https://oshi.at/Shpg\n",
            "Resolving oshi.at (oshi.at)... 5.253.86.15, 2001:41d0:601:1100::30ad\n",
            "Connecting to oshi.at (oshi.at)|5.253.86.15|:443... connected.\n",
            "HTTP request sent, awaiting response... 200 OK\n",
            "Length: 991188 (968K) [application/octet-stream]\n",
            "Saving to: ‘Shpg’\n",
            "\n",
            "Shpg                100%[===================>] 967.96K  1.12MB/s    in 0.8s    \n",
            "\n",
            "2023-04-26 14:14:49 (1.12 MB/s) - ‘Shpg’ saved [991188/991188]\n",
            "\n",
            "\n",
            "UNRAR 5.61 beta 1 freeware      Copyright (c) 1993-2018 Alexander Roshal\n",
            "\n",
            "\n",
            "Extracting from Shpg\n",
            "\n",
            "Extracting  62460eb1-d33b-11ed-9b97-fa89d2233583.jpg                     \b\b\b\b  2%\b\b\b\b\b  OK \n",
            "Extracting  6269ca2e-d33b-11ed-ab2e-fa89d2233583.jpg                     \b\b\b\b  4%\b\b\b\b\b  OK \n",
            "Extracting  62bca470-d33b-11ed-b14c-fa89d2233583.jpg                     \b\b\b\b  6%\b\b\b\b\b  OK \n",
            "Extracting  62de7af4-d33b-11ed-82fb-fa89d2233583.jpg                     \b\b\b\b  8%\b\b\b\b\b  OK \n",
            "Extracting  630049dc-d33b-11ed-8440-fa89d2233583.jpg                     \b\b\b\b 10%\b\b\b\b\b  OK \n",
            "Extracting  633700b4-d33b-11ed-b5c4-fa89d2233583.jpg                     \b\b\b\b 12%\b\b\b\b\b  OK \n",
            "Extracting  63e74a5b-d33b-11ed-8765-fa89d2233583.jpg                     \b\b\b\b 14%\b\b\b\b\b  OK \n",
            "Extracting  64232fb2-d33b-11ed-b0cd-fa89d2233583.jpg                     \b\b\b\b 16%\b\b\b\b\b  OK \n",
            "Extracting  64718441-d33b-11ed-b5c0-fa89d2233583.jpg                     \b\b\b\b 18%\b\b\b\b\b  OK \n",
            "Extracting  649612ff-d33b-11ed-b6ae-fa89d2233583.jpg                     \b\b\b\b 20%\b\b\b\b\b  OK \n",
            "Extracting  64b57d84-d33b-11ed-867a-fa89d2233583.jpg                     \b\b\b\b 22%\b\b\b\b\b  OK \n",
            "Extracting  64f573af-d33b-11ed-9fb1-fa89d2233583.jpg                     \b\b\b\b 24%\b\b\b\b\b  OK \n",
            "Extracting  6683ad9c-d33b-11ed-8f9a-fa89d2233583.jpg                     \b\b\b\b 26%\b\b\b\b\b  OK \n",
            "Extracting  66ead2f1-d33b-11ed-9cee-fa89d2233583.jpg                     \b\b\b\b 28%\b\b\b\b\b  OK \n",
            "Extracting  679cc26f-d33b-11ed-aa98-fa89d2233583.jpg                     \b\b\b\b 30%\b\b\b\b\b  OK \n",
            "Extracting  68fbf032-d33b-11ed-a7cd-fa89d2233583.jpg                     \b\b\b\b 32%\b\b\b\b\b  OK \n",
            "Extracting  70353a00-d33b-11ed-9195-fa89d2233583.jpg                     \b\b\b\b 34%\b\b\b\b\b  OK \n",
            "Extracting  7070d892-d33b-11ed-a4ac-fa89d2233583.jpg                     \b\b\b\b 35%\b\b\b\b\b  OK \n",
            "Extracting  70d656a8-d33b-11ed-bdd8-fa89d2233583.jpg                     \b\b\b\b 37%\b\b\b\b\b  OK \n",
            "Extracting  7179ff42-d33b-11ed-9ad7-fa89d2233583.jpg                     \b\b\b\b 39%\b\b\b\b\b  OK \n",
            "Extracting  71959d05-d33b-11ed-b95c-fa89d2233583.jpg                     \b\b\b\b 41%\b\b\b\b\b  OK \n",
            "Extracting  73da6973-d33b-11ed-a642-fa89d2233583.jpg                     \b\b\b\b 43%\b\b\b\b\b  OK \n",
            "Extracting  798523fc-d33b-11ed-8728-fa89d2233583.jpg                     \b\b\b\b 45%\b\b\b\b\b  OK \n",
            "Extracting  79a4f287-d33b-11ed-a849-fa89d2233583.jpg                     \b\b\b\b 47%\b\b\b\b\b  OK \n",
            "Extracting  7ae11d86-d33b-11ed-81be-fa89d2233583.jpg                     \b\b\b\b 49%\b\b\b\b\b  OK \n",
            "Extracting  7b21d2fc-d33b-11ed-8fae-fa89d2233583.jpg                     \b\b\b\b 51%\b\b\b\b\b  OK \n",
            "Extracting  7c5a2aa1-d33b-11ed-b378-fa89d2233583.jpg                     \b\b\b\b 53%\b\b\b\b\b  OK \n",
            "Extracting  7c77f336-d33b-11ed-aee4-fa89d2233583.jpg                     \b\b\b\b 55%\b\b\b\b\b  OK \n",
            "Extracting  7c9932b3-d33b-11ed-baa1-fa89d2233583.jpg                     \b\b\b\b 57%\b\b\b\b\b  OK \n",
            "Extracting  7ecc0d92-d33b-11ed-ac4b-fa89d2233583.jpg                     \b\b\b\b 59%\b\b\b\b\b  OK \n",
            "Extracting  7ee95370-d33b-11ed-b576-fa89d2233583.jpg                     \b\b\b\b 61%\b\b\b\b\b  OK \n",
            "Extracting  8346c3e8-d33b-11ed-b0b6-fa89d2233583.jpg                     \b\b\b\b 63%\b\b\b\b\b  OK \n",
            "Extracting  838fc980-d33b-11ed-a006-fa89d2233583.jpg                     \b\b\b\b 65%\b\b\b\b\b  OK \n",
            "Extracting  862f8cdb-d33b-11ed-89ac-fa89d2233583.jpg                     \b\b\b\b 67%\b\b\b\b\b  OK \n",
            "Extracting  867ebcfe-d33b-11ed-b8e2-fa89d2233583.jpg                     \b\b\b\b 69%\b\b\b\b\b  OK \n",
            "Extracting  89419d15-d33b-11ed-860d-fa89d2233583.jpg                     \b\b\b\b 71%\b\b\b\b\b  OK \n",
            "Extracting  897d123f-d33b-11ed-b979-fa89d2233583.jpg                     \b\b\b\b 73%\b\b\b\b\b  OK \n",
            "Extracting  8d0a9c6f-d33b-11ed-8ab7-fa89d2233583.jpg                     \b\b\b\b 75%\b\b\b\b\b  OK \n",
            "Extracting  8d55e53a-d33b-11ed-9395-fa89d2233583.jpg                     \b\b\b\b 77%\b\b\b\b\b  OK \n",
            "Extracting  8f5997e2-d33b-11ed-8b65-fa89d2233583.jpg                     \b\b\b\b 79%\b\b\b\b\b  OK \n",
            "Extracting  8f87d8be-d33b-11ed-acb3-fa89d2233583.jpg                     \b\b\b\b 81%\b\b\b\b\b  OK \n",
            "Extracting  92437818-d33b-11ed-bde2-fa89d2233583.jpg                     \b\b\b\b 83%\b\b\b\b\b  OK \n",
            "Extracting  926c303c-d33b-11ed-899a-fa89d2233583.jpg                     \b\b\b\b 85%\b\b\b\b\b  OK \n",
            "Extracting  92d24c40-d33b-11ed-90e6-fa89d2233583.jpg                     \b\b\b\b 87%\b\b\b\b\b  OK \n",
            "Extracting  a27fe37d-d33b-11ed-b1b0-fa89d2233583.jpg                     \b\b\b\b 89%\b\b\b\b\b  OK \n",
            "Extracting  a304c4e2-d33b-11ed-bcee-fa89d2233583.jpg                     \b\b\b\b 91%\b\b\b\b\b  OK \n",
            "Extracting  a325ef24-d33b-11ed-a898-fa89d2233583.jpg                     \b\b\b\b 93%\b\b\b\b\b  OK \n",
            "Extracting  a7b80cfc-d33b-11ed-8bfe-fa89d2233583.jpg                     \b\b\b\b 95%\b\b\b\b\b  OK \n",
            "Extracting  a7f50a76-d33b-11ed-a54e-fa89d2233583.jpg                     \b\b\b\b 97%\b\b\b\b\b  OK \n",
            "Extracting  ae4a54de-d33b-11ed-b758-fa89d2233583.jpg                     \b\b\b\b 99%\b\b\b\b\b  OK \n",
            "All OK\n"
          ]
        }
      ]
    },
    {
      "cell_type": "markdown",
      "source": [
        "# Loading and Preprocessing"
      ],
      "metadata": {
        "id": "VjxMc4GLuez6"
      }
    },
    {
      "cell_type": "markdown",
      "source": [
        "**Getting Image Directories** "
      ],
      "metadata": {
        "id": "SNUqO1a0vbGd"
      }
    },
    {
      "cell_type": "code",
      "source": [
        "anchor = tf.data.Dataset.list_files('/content/'+ANC_PATH+'/*.jpg').take(300)\n",
        "positive = tf.data.Dataset.list_files('/content/'+POS_PATH+'/*.jpg').take(300)\n",
        "negative = tf.data.Dataset.list_files('/content/'+NEG_PATH+'/*.jpg').take(300)"
      ],
      "metadata": {
        "id": "HxPPF_XNuxmF"
      },
      "execution_count": null,
      "outputs": []
    },
    {
      "cell_type": "code",
      "source": [
        "dir_test=anchor.as_numpy_iterator()\n",
        "print(dir_test.next())"
      ],
      "metadata": {
        "colab": {
          "base_uri": "https://localhost:8080/"
        },
        "id": "NFXrMiR-vn04",
        "outputId": "451881d6-59b2-4bfd-c28a-8acc1c9d87d2"
      },
      "execution_count": null,
      "outputs": [
        {
          "output_type": "stream",
          "name": "stdout",
          "text": [
            "b'/content/data/anchor/897d123f-d33b-11ed-b979-fa89d2233583.jpg'\n"
          ]
        }
      ]
    },
    {
      "cell_type": "markdown",
      "source": [
        "**Preprocessing**"
      ],
      "metadata": {
        "id": "eP8Z1t-k1k3d"
      }
    },
    {
      "cell_type": "code",
      "source": [
        "def preprocess(file_path): \n",
        "    # Read in n load image from file path\n",
        "    byte_img = tf.io.read_file(file_path)\n",
        "    img = tf.io.decode_jpeg(byte_img)\n",
        "    \n",
        "    # Preprocessing steps - resizing the image to be 100x100x3\n",
        "    img = tf.image.resize(img, (100,100)) #  The paper says so (105*105)\n",
        "    # Scale image to be between 0 and 1 \n",
        "    img = img / 255.0\n",
        "    \n",
        "    # Return image\n",
        "    return img"
      ],
      "metadata": {
        "id": "ILfQ3t-6wgwL"
      },
      "execution_count": null,
      "outputs": []
    },
    {
      "cell_type": "code",
      "source": [
        "img=preprocess('/content/data/anchor/64232fb2-d33b-11ed-b0cd-fa89d2233583.jpg')\n",
        "img.numpy().max()\n",
        "plt.imshow(img)"
      ],
      "metadata": {
        "colab": {
          "base_uri": "https://localhost:8080/"
        },
        "id": "24dbmU6W2JRJ",
        "outputId": "60230089-493c-42fc-d88f-308441715f8a"
      },
      "execution_count": null,
      "outputs": [
        {
          "output_type": "execute_result",
          "data": {
            "text/plain": [
              "<matplotlib.image.AxesImage at 0x7ffa240f2730>"
            ]
          },
          "metadata": {},
          "execution_count": 12
        },
        {
          "output_type": "display_data",
          "data": {
            "text/plain": [
              "<Figure size 640x480 with 1 Axes>"
            ],
            "image/png": "[encoded data removed]"
          },
          "metadata": {}
        }
      ]
    },
    {
      "cell_type": "markdown",
      "source": [
        "**Label The Dataset**\n",
        "\n"
      ],
      "metadata": {
        "id": "coHI8lOj4zz6"
      }
    },
    {
      "cell_type": "code",
      "source": [
        "# (anchor, positive) => 1,1,1,1,1\n",
        "# (anchor, negative) => 0,0,0,0,0\n",
        "positives = tf.data.Dataset.zip((anchor, positive, tf.data.Dataset.from_tensor_slices(tf.ones(len(anchor)))))\n",
        "negatives = tf.data.Dataset.zip((anchor, negative, tf.data.Dataset.from_tensor_slices(tf.zeros(len(anchor)))))\n",
        "data = positives.concatenate(negatives) # dataset that has both negative and positive "
      ],
      "metadata": {
        "id": "i0GuNTMt3u5X"
      },
      "execution_count": null,
      "outputs": []
    },
    {
      "cell_type": "code",
      "source": [
        "#example of data \n",
        "sample=data.as_numpy_iterator()\n",
        "example=sample.next()\n",
        "data.as_numpy_iterator().next()"
      ],
      "metadata": {
        "id": "QnhflFk66Cev",
        "colab": {
          "base_uri": "https://localhost:8080/"
        },
        "outputId": "0e3653d6-d13b-4745-d731-076c50fe5ab4"
      },
      "execution_count": null,
      "outputs": [
        {
          "output_type": "execute_result",
          "data": {
            "text/plain": [
              "(b'/content/data/anchor/679cc26f-d33b-11ed-aa98-fa89d2233583.jpg',\n",
              " b'/content/data/positive/8c7e6a24-d33b-11ed-adf5-fa89d2233583.jpg',\n",
              " 1.0)"
            ]
          },
          "metadata": {},
          "execution_count": 14
        }
      ]
    },
    {
      "cell_type": "code",
      "source": [
        "#preprocess a twin *** return it back to the dataset \n",
        "def preprocess_twin(input_img, validation_img, label):\n",
        "    return(preprocess(input_img), preprocess(validation_img), label)"
      ],
      "metadata": {
        "id": "0TengWgST5g_"
      },
      "execution_count": null,
      "outputs": []
    },
    {
      "cell_type": "code",
      "source": [
        "#test the preprocess twin *** the astris unpacks the values \n",
        "res=preprocess_twin(*example) "
      ],
      "metadata": {
        "id": "j3FkNPfAUwcw"
      },
      "execution_count": null,
      "outputs": []
    },
    {
      "cell_type": "code",
      "source": [
        "len(res)\n",
        "plt.imshow(res[1])"
      ],
      "metadata": {
        "id": "vXyPxk7bWYBt",
        "colab": {
          "base_uri": "https://localhost:8080/"
        },
        "outputId": "d41017ce-3842-4264-b33f-1f90619d1197"
      },
      "execution_count": null,
      "outputs": [
        {
          "output_type": "execute_result",
          "data": {
            "text/plain": [
              "<matplotlib.image.AxesImage at 0x7ffa21db41f0>"
            ]
          },
          "metadata": {},
          "execution_count": 17
        },
        {
          "output_type": "display_data",
          "data": {
            "text/plain": [
              "<Figure size 640x480 with 1 Axes>"
            ],
            "image/png": "[encoded data removed]"
          },
          "metadata": {}
        }
      ]
    },
    {
      "cell_type": "markdown",
      "source": [
        "**Building the data Loader Pipeline**"
      ],
      "metadata": {
        "id": "zyjc05WUdEaO"
      }
    },
    {
      "cell_type": "code",
      "source": [
        "# Build dataloader pipeline\n",
        "data = data.map(preprocess_twin)\n",
        "data = data.cache()\n",
        "data = data.shuffle(buffer_size=1024)"
      ],
      "metadata": {
        "id": "1hhwXjJwX9J7"
      },
      "execution_count": null,
      "outputs": []
    },
    {
      "cell_type": "code",
      "source": [
        "sample=data.as_numpy_iterator()\n",
        "example=sample.next()"
      ],
      "metadata": {
        "id": "peEqNQfQjwhe"
      },
      "execution_count": null,
      "outputs": []
    },
    {
      "cell_type": "code",
      "source": [
        "plt.imshow(example[1])"
      ],
      "metadata": {
        "colab": {
          "base_uri": "https://localhost:8080/"
        },
        "id": "eeJ8HR9_j1K8",
        "outputId": "e4e8bff9-78d8-4d3f-c4c0-7dab8a7618c3"
      },
      "execution_count": null,
      "outputs": [
        {
          "output_type": "execute_result",
          "data": {
            "text/plain": [
              "<matplotlib.image.AxesImage at 0x7ffa21ca4bb0>"
            ]
          },
          "metadata": {},
          "execution_count": 20
        },
        {
          "output_type": "display_data",
          "data": {
            "text/plain": [
              "<Figure size 640x480 with 1 Axes>"
            ],
            "image/png": "[encoded data removed]"
          },
          "metadata": {}
        }
      ]
    },
    {
      "cell_type": "markdown",
      "source": [
        "**Training and testing Data**"
      ],
      "metadata": {
        "id": "q0eyydxO8tOn"
      }
    },
    {
      "cell_type": "code",
      "source": [
        "# Training partition \n",
        "train_data= data.take(round(len(data)*.7)) # 70% of our data \n",
        "train_data=train_data.batch(16)\n",
        "train_data=train_data.prefetch(8) # to avoid bottle nekcs we need to prefetsh while the latest batch is being fed in \n",
        "# Testing partition \n",
        "test_data=data.skip(round(len(data)*.7))\n",
        "test_data= test_data.take(round(len(data)*.3))\n",
        "test_data = test_data.batch(16)\n",
        "test_data = test_data.prefetch(8)"
      ],
      "metadata": {
        "id": "bZVJEx8Xj6R1"
      },
      "execution_count": null,
      "outputs": []
    },
    {
      "cell_type": "code",
      "source": [
        "len(train_data.as_numpy_iterator().next()[0]) # batch number"
      ],
      "metadata": {
        "colab": {
          "base_uri": "https://localhost:8080/"
        },
        "id": "mze_NU4v8SoS",
        "outputId": "e268c5e1-6d0f-4466-c176-a357bf588111"
      },
      "execution_count": null,
      "outputs": [
        {
          "output_type": "execute_result",
          "data": {
            "text/plain": [
              "16"
            ]
          },
          "metadata": {},
          "execution_count": 22
        }
      ]
    },
    {
      "cell_type": "markdown",
      "source": [
        "# Model Engineering"
      ],
      "metadata": {
        "id": "ujtB0J_m_7-I"
      }
    },
    {
      "cell_type": "markdown",
      "source": [
        "**Building Preprocessing Layers**"
      ],
      "metadata": {
        "id": "OTj1ThL0AJ6F"
      }
    },
    {
      "cell_type": "code",
      "source": [
        "#Embedding Layer \n",
        "'''Transfor the data we r entring into embeddings... \n",
        "      The architecture of our model is going to be double streamed working in paralel as they output eventually\n",
        "      a feature vector of 4096 unit==> transletting our images into a feature vector '''\n",
        "def make_embedding():\n",
        "  inp=Input(shape=(100,100,3),name='input_image')\n",
        "  #First block\n",
        "  c1=Conv2D(64,(10,10),activation='relu')(inp)\n",
        "  m1=MaxPooling2D(64,(2,2),padding='same')(c1)\n",
        "  #Second block\n",
        "  c2=Conv2D(128,(7,7),activation='relu')(m1)\n",
        "  m2=MaxPooling2D(64,(2,2),padding='same')(c2)\n",
        "  #Third block\n",
        "  c3=Conv2D(128,(4,4),activation='relu')(m2)\n",
        "  m3=MaxPooling2D(64,(2,2),padding='same')(c3)\n",
        "  #Final Embedding block\n",
        "  c4=Conv2D(256,(4,4),activation='relu')(m3)\n",
        "  f1=Flatten()(c4)\n",
        "  d1=Dense(4096,activation='sigmoid')(f1)\n",
        "\n",
        "\n",
        "  return Model(inputs=[inp],outputs=[d1], name='embedding')\n"
      ],
      "metadata": {
        "id": "Ax0uedQXAFio"
      },
      "execution_count": null,
      "outputs": []
    },
    {
      "cell_type": "code",
      "source": [
        "embedding=make_embedding()\n",
        "embedding.summary()"
      ],
      "metadata": {
        "colab": {
          "base_uri": "https://localhost:8080/"
        },
        "id": "VDghE-KqJK4a",
        "outputId": "c7a9f35b-510e-4280-a1f4-26a098161d8b"
      },
      "execution_count": null,
      "outputs": [
        {
          "output_type": "stream",
          "name": "stdout",
          "text": [
            "Model: \"embedding\"\n",
            "_________________________________________________________________\n",
            " Layer (type)                Output Shape              Param #   \n",
            "=================================================================\n",
            " input_image (InputLayer)    [(None, 100, 100, 3)]     0         \n",
            "                                                                 \n",
            " conv2d (Conv2D)             (None, 91, 91, 64)        19264     \n",
            "                                                                 \n",
            " max_pooling2d (MaxPooling2D  (None, 46, 46, 64)       0         \n",
            " )                                                               \n",
            "                                                                 \n",
            " conv2d_1 (Conv2D)           (None, 40, 40, 128)       401536    \n",
            "                                                                 \n",
            " max_pooling2d_1 (MaxPooling  (None, 20, 20, 128)      0         \n",
            " 2D)                                                             \n",
            "                                                                 \n",
            " conv2d_2 (Conv2D)           (None, 17, 17, 128)       262272    \n",
            "                                                                 \n",
            " max_pooling2d_2 (MaxPooling  (None, 9, 9, 128)        0         \n",
            " 2D)                                                             \n",
            "                                                                 \n",
            " conv2d_3 (Conv2D)           (None, 6, 6, 256)         524544    \n",
            "                                                                 \n",
            " flatten (Flatten)           (None, 9216)              0         \n",
            "                                                                 \n",
            " dense (Dense)               (None, 4096)              37752832  \n",
            "                                                                 \n",
            "=================================================================\n",
            "Total params: 38,960,448\n",
            "Trainable params: 38,960,448\n",
            "Non-trainable params: 0\n",
            "_________________________________________________________________\n"
          ]
        }
      ]
    },
    {
      "cell_type": "markdown",
      "source": [
        "**Building the distance layer**"
      ],
      "metadata": {
        "id": "TdI7APB61-VY"
      }
    },
    {
      "cell_type": "code",
      "source": [
        "# Distance layer \n",
        "'''The L1 distance layer is a custom layer that we will create using a python class '''\n",
        "\n",
        "class L1Dist(Layer):\n",
        "\n",
        "  def __init__(self,**kwargs): # allows to work with it in a bigger model helps with import n export \n",
        "    super().__init__()           # the kwargs means if we could pass other arguments when we export this to work with it somewhere else \n",
        "     \n",
        "  def call(self,input_embedding,validation_embedding):#input and validation embedding is the result of the two streams woming from our intial layer\n",
        "    return tf.math.abs(input_embedding - validation_embedding)\n"
      ],
      "metadata": {
        "id": "N_47-QTYJTSd"
      },
      "execution_count": null,
      "outputs": []
    },
    {
      "cell_type": "markdown",
      "source": [
        "**Building the Siamese Model**"
      ],
      "metadata": {
        "id": "TCuNMVjgBnNN"
      }
    },
    {
      "cell_type": "code",
      "source": [
        "'''input_image = Input(name='input_img', shape=(100,100,3))\n",
        "validation_image = Input(name='validation_img', shape=(100,100,3))\n",
        "inp_embedding=embedding(input_image)\n",
        "val_embedding=embedding(validation_image)'''"
      ],
      "metadata": {
        "id": "nHbTISbuEZz4",
        "colab": {
          "base_uri": "https://localhost:8080/"
        },
        "outputId": "3f863b26-5df9-4f88-a3e8-044c72df7b70"
      },
      "execution_count": null,
      "outputs": [
        {
          "output_type": "execute_result",
          "data": {
            "text/plain": [
              "\"input_image = Input(name='input_img', shape=(100,100,3))\\nvalidation_image = Input(name='validation_img', shape=(100,100,3))\\ninp_embedding=embedding(input_image)\\nval_embedding=embedding(validation_image)\""
            ],
            "application/vnd.google.colaboratory.intrinsic+json": {
              "type": "string"
            }
          },
          "metadata": {},
          "execution_count": 26
        }
      ]
    },
    {
      "cell_type": "code",
      "source": [
        "def make_siamese_model():\n",
        "\n",
        "  #Inputs \n",
        "  input_image = Input(name='input_img',shape=(100,100,3))\n",
        "\n",
        "  #validation\n",
        "  validation_image=Input(name='validation_img',shape=(100,100,3))\n",
        "\n",
        "  #combine siamese distance components \n",
        "  siamese_layer=L1Dist() \n",
        "  siamese_layer._name='distance'\n",
        "  distances=siamese_layer(embedding(input_image),embedding(validation_image))\n",
        "\n",
        "  # classifier\n",
        "  classifier=Dense(1,activation='sigmoid')(distances)\n",
        "  return Model(inputs=[input_image,validation_image],outputs=classifier,name='SiameseNetwork')"
      ],
      "metadata": {
        "id": "6CHJpB4OBjnp"
      },
      "execution_count": null,
      "outputs": []
    },
    {
      "cell_type": "code",
      "source": [
        "siamese_model = make_siamese_model()\n",
        "siamese_model.summary()"
      ],
      "metadata": {
        "colab": {
          "base_uri": "https://localhost:8080/"
        },
        "id": "C55U-4HtOGw5",
        "outputId": "4e4916c8-d9b6-4386-cb1e-1c1bd13c0960"
      },
      "execution_count": null,
      "outputs": [
        {
          "output_type": "stream",
          "name": "stdout",
          "text": [
            "Model: \"SiameseNetwork\"\n",
            "__________________________________________________________________________________________________\n",
            " Layer (type)                   Output Shape         Param #     Connected to                     \n",
            "==================================================================================================\n",
            " input_img (InputLayer)         [(None, 100, 100, 3  0           []                               \n",
            "                                )]                                                                \n",
            "                                                                                                  \n",
            " validation_img (InputLayer)    [(None, 100, 100, 3  0           []                               \n",
            "                                )]                                                                \n",
            "                                                                                                  \n",
            " embedding (Functional)         (None, 4096)         38960448    ['input_img[0][0]',              \n",
            "                                                                  'validation_img[0][0]']         \n",
            "                                                                                                  \n",
            " distance (L1Dist)              (None, 4096)         0           ['embedding[0][0]',              \n",
            "                                                                  'embedding[1][0]']              \n",
            "                                                                                                  \n",
            " dense_1 (Dense)                (None, 1)            4097        ['distance[0][0]']               \n",
            "                                                                                                  \n",
            "==================================================================================================\n",
            "Total params: 38,964,545\n",
            "Trainable params: 38,964,545\n",
            "Non-trainable params: 0\n",
            "__________________________________________________________________________________________________\n"
          ]
        }
      ]
    },
    {
      "cell_type": "markdown",
      "source": [
        "# Training"
      ],
      "metadata": {
        "id": "WpiFUlpkGq4J"
      }
    },
    {
      "cell_type": "markdown",
      "source": [
        "**Loss and Optimization**"
      ],
      "metadata": {
        "id": "F3f02xa-Gy8r"
      }
    },
    {
      "cell_type": "code",
      "source": [
        "# Our model has to minimize its loss in order to perform better each time \n",
        "# Optimizer helps us perform back propagation through our network\n",
        "binary_cross_loss=tf.losses.BinaryCrossentropy()\n",
        "opt=tf.keras.optimizers.Adam(1e-4)"
      ],
      "metadata": {
        "id": "DbCPiz16GxIE"
      },
      "execution_count": null,
      "outputs": []
    },
    {
      "cell_type": "markdown",
      "source": [
        "**Diresctories for CheckPoints**"
      ],
      "metadata": {
        "id": "w6EAVaacHNsT"
      }
    },
    {
      "cell_type": "code",
      "source": [
        "# if Something goes while training this will help us to go back to a checkpoint and complete from there \n",
        "# will be used in the training loop \n",
        "checkpoint_dir='training_checkpoints'\n",
        "os.makedirs(checkpoint_dir)\n",
        "checkpoint_prefix = os.path.join(checkpoint_dir, 'ckpt') # all chekpts will start with this \n",
        "checkpoint = tf.train.Checkpoint(opt=opt, siamese_model=siamese_model)\n",
        "\n"
      ],
      "metadata": {
        "id": "PS3YEW0RHMHW"
      },
      "execution_count": null,
      "outputs": []
    },
    {
      "cell_type": "code",
      "source": [
        "tst= train_data.as_numpy_iterator()\n",
        "batch1=tst.next()\n",
        "print(batch1[2])\n",
        "X=batch1[:2]\n",
        "X=np.array(X)\n",
        "X.shape"
      ],
      "metadata": {
        "colab": {
          "base_uri": "https://localhost:8080/"
        },
        "id": "-wAv-SEAT06J",
        "outputId": "1ade0c87-7339-4c57-8c96-66a2e3e026ec"
      },
      "execution_count": null,
      "outputs": [
        {
          "output_type": "stream",
          "name": "stdout",
          "text": [
            "[1. 0. 1. 0. 1. 0. 0. 1. 0. 0. 0. 1. 1. 1. 1. 0.]\n"
          ]
        },
        {
          "output_type": "execute_result",
          "data": {
            "text/plain": [
              "(2, 16, 100, 100, 3)"
            ]
          },
          "metadata": {},
          "execution_count": 31
        }
      ]
    },
    {
      "cell_type": "markdown",
      "source": [
        "**Train Step Function**"
      ],
      "metadata": {
        "id": "D93Xy_hrJHja"
      }
    },
    {
      "cell_type": "code",
      "source": [
        "# Trainig on a single batsh  \n",
        "@tf.function # Decorator that compiles a func into a collabale tf graph\n",
        "def train_step(batch):\n",
        "  with tf.GradientTape() as tape: # Records what happens inside a neural network\n",
        "    # get anchor and +or- image   # in order to perform differentiation later on \n",
        "    X=batch[:2]\n",
        "    # get label\n",
        "    y=batch[2]\n",
        "    #Forward pass \n",
        "    ypred=siamese_model(X,training=True)# training = true activate all the layers \n",
        "    #Loss\n",
        "    loss=binary_cross_loss(y,ypred)\n",
        "  #Gradients ??\n",
        "  grad=tape.gradient(loss,siamese_model.trainable_variables)\n",
        "  #Calc new weights and apply to model \n",
        "  opt.apply_gradients(zip(grad,siamese_model.trainable_variables))\n",
        "\n",
        "  return loss\n",
        "\n",
        "\n"
      ],
      "metadata": {
        "id": "7G4bJBGaIaD0"
      },
      "execution_count": null,
      "outputs": []
    },
    {
      "cell_type": "markdown",
      "source": [
        "**Training Loop**"
      ],
      "metadata": {
        "id": "q58rBDecMBdj"
      }
    },
    {
      "cell_type": "code",
      "source": [
        "# Training loop goes through every single epoch and apply our training step \n",
        "def train(data,EPOCHS):\n",
        "  #Loop EPs\n",
        "  for epoch in range (1,EPOCHS+1):\n",
        "    print('\\n Epoch{}/{}'.format(epoch,EPOCHS))\n",
        "    progbar=tf.keras.utils.Progbar(len(data))\n",
        "    #Loop Btchs\n",
        "    for idx,batch in enumerate(data):\n",
        "      #Run train step\n",
        "      train_step(batch)\n",
        "      progbar.update(idx+1)\n",
        "    #Save checkpoints \n",
        "    if epoch %10==0:\n",
        "      checkpoint.save(file_prefix=checkpoint_prefix)\n",
        "\n"
      ],
      "metadata": {
        "id": "2F3BaMApMFbd"
      },
      "execution_count": null,
      "outputs": []
    },
    {
      "cell_type": "markdown",
      "source": [
        "**Model training**"
      ],
      "metadata": {
        "id": "A0yX_E5tNenh"
      }
    },
    {
      "cell_type": "code",
      "source": [
        "EPOCHS=50\n",
        "train(train_data,EPOCHS)"
      ],
      "metadata": {
        "colab": {
          "base_uri": "https://localhost:8080/"
        },
        "id": "KDr-r3MvgqPG",
        "outputId": "69bc948d-def4-480d-9221-eca69513bee1"
      },
      "execution_count": null,
      "outputs": [
        {
          "output_type": "stream",
          "name": "stdout",
          "text": [
            "\n",
            " Epoch1/50\n",
            "5/5 [==============================] - 15s 348ms/step\n",
            "\n",
            " Epoch2/50\n",
            "5/5 [==============================] - 1s 174ms/step\n",
            "\n",
            " Epoch3/50\n",
            "5/5 [==============================] - 1s 174ms/step\n",
            "\n",
            " Epoch4/50\n",
            "5/5 [==============================] - 1s 173ms/step\n",
            "\n",
            " Epoch5/50\n",
            "5/5 [==============================] - 1s 172ms/step\n",
            "\n",
            " Epoch6/50\n",
            "5/5 [==============================] - 1s 172ms/step\n",
            "\n",
            " Epoch7/50\n",
            "5/5 [==============================] - 1s 174ms/step\n",
            "\n",
            " Epoch8/50\n",
            "5/5 [==============================] - 1s 175ms/step\n",
            "\n",
            " Epoch9/50\n",
            "5/5 [==============================] - 1s 174ms/step\n",
            "\n",
            " Epoch10/50\n",
            "5/5 [==============================] - 1s 175ms/step\n",
            "\n",
            " Epoch11/50\n",
            "5/5 [==============================] - 1s 178ms/step\n",
            "\n",
            " Epoch12/50\n",
            "5/5 [==============================] - 1s 176ms/step\n",
            "\n",
            " Epoch13/50\n",
            "5/5 [==============================] - 1s 175ms/step\n",
            "\n",
            " Epoch14/50\n",
            "5/5 [==============================] - 1s 175ms/step\n",
            "\n",
            " Epoch15/50\n",
            "5/5 [==============================] - 1s 175ms/step\n",
            "\n",
            " Epoch16/50\n",
            "5/5 [==============================] - 1s 175ms/step\n",
            "\n",
            " Epoch17/50\n",
            "5/5 [==============================] - 1s 176ms/step\n",
            "\n",
            " Epoch18/50\n",
            "5/5 [==============================] - 1s 175ms/step\n",
            "\n",
            " Epoch19/50\n",
            "5/5 [==============================] - 1s 176ms/step\n",
            "\n",
            " Epoch20/50\n",
            "5/5 [==============================] - 1s 176ms/step\n",
            "\n",
            " Epoch21/50\n",
            "5/5 [==============================] - 1s 212ms/step\n",
            "\n",
            " Epoch22/50\n",
            "5/5 [==============================] - 1s 178ms/step\n",
            "\n",
            " Epoch23/50\n",
            "5/5 [==============================] - 1s 177ms/step\n",
            "\n",
            " Epoch24/50\n",
            "5/5 [==============================] - 1s 178ms/step\n",
            "\n",
            " Epoch25/50\n",
            "5/5 [==============================] - 1s 177ms/step\n",
            "\n",
            " Epoch26/50\n",
            "5/5 [==============================] - 1s 177ms/step\n",
            "\n",
            " Epoch27/50\n",
            "5/5 [==============================] - 1s 176ms/step\n",
            "\n",
            " Epoch28/50\n",
            "5/5 [==============================] - 1s 178ms/step\n",
            "\n",
            " Epoch29/50\n",
            "5/5 [==============================] - 1s 177ms/step\n",
            "\n",
            " Epoch30/50\n",
            "5/5 [==============================] - 1s 178ms/step\n",
            "\n",
            " Epoch31/50\n",
            "5/5 [==============================] - 1s 210ms/step\n",
            "\n",
            " Epoch32/50\n",
            "5/5 [==============================] - 1s 178ms/step\n",
            "\n",
            " Epoch33/50\n",
            "5/5 [==============================] - 1s 178ms/step\n",
            "\n",
            " Epoch34/50\n",
            "5/5 [==============================] - 1s 178ms/step\n",
            "\n",
            " Epoch35/50\n",
            "5/5 [==============================] - 1s 179ms/step\n",
            "\n",
            " Epoch36/50\n",
            "5/5 [==============================] - 1s 179ms/step\n",
            "\n",
            " Epoch37/50\n",
            "5/5 [==============================] - 1s 178ms/step\n",
            "\n",
            " Epoch38/50\n",
            "5/5 [==============================] - 1s 179ms/step\n",
            "\n",
            " Epoch39/50\n",
            "5/5 [==============================] - 1s 180ms/step\n",
            "\n",
            " Epoch40/50\n",
            "5/5 [==============================] - 1s 178ms/step\n",
            "\n",
            " Epoch41/50\n",
            "5/5 [==============================] - 1s 178ms/step\n",
            "\n",
            " Epoch42/50\n",
            "5/5 [==============================] - 1s 181ms/step\n",
            "\n",
            " Epoch43/50\n",
            "5/5 [==============================] - 1s 180ms/step\n",
            "\n",
            " Epoch44/50\n",
            "5/5 [==============================] - 1s 180ms/step\n",
            "\n",
            " Epoch45/50\n",
            "5/5 [==============================] - 1s 179ms/step\n",
            "\n",
            " Epoch46/50\n",
            "5/5 [==============================] - 1s 181ms/step\n",
            "\n",
            " Epoch47/50\n",
            "5/5 [==============================] - 1s 180ms/step\n",
            "\n",
            " Epoch48/50\n",
            "5/5 [==============================] - 1s 181ms/step\n",
            "\n",
            " Epoch49/50\n",
            "5/5 [==============================] - 1s 181ms/step\n",
            "\n",
            " Epoch50/50\n",
            "5/5 [==============================] - 1s 180ms/step\n"
          ]
        }
      ]
    },
    {
      "cell_type": "markdown",
      "source": [
        "## Evaluation\n"
      ],
      "metadata": {
        "id": "Oys9lQxjrOKv"
      }
    },
    {
      "cell_type": "code",
      "source": [
        "#import metrics \n",
        "from tensorflow.keras.metrics import Precision, Recall"
      ],
      "metadata": {
        "id": "cyIZEiGmlTPa"
      },
      "execution_count": null,
      "outputs": []
    },
    {
      "cell_type": "code",
      "source": [
        "# Get a batch of test data\n",
        "test_input, test_val, y_true = test_data.as_numpy_iterator().next()"
      ],
      "metadata": {
        "id": "E3Xf-0aysxoG"
      },
      "execution_count": null,
      "outputs": []
    },
    {
      "cell_type": "code",
      "source": [
        "y_hat = siamese_model.predict([test_input, test_val])\n",
        "y_hat"
      ],
      "metadata": {
        "colab": {
          "base_uri": "https://localhost:8080/"
        },
        "id": "XmKHTKRydPhV",
        "outputId": "16c95e41-f8a4-44d2-dacb-fe2e4e3c04de"
      },
      "execution_count": null,
      "outputs": [
        {
          "output_type": "stream",
          "name": "stdout",
          "text": [
            "1/1 [==============================] - 0s 192ms/step\n"
          ]
        },
        {
          "output_type": "execute_result",
          "data": {
            "text/plain": [
              "array([[9.9946457e-01],\n",
              "       [2.6762097e-08],\n",
              "       [9.9984872e-01],\n",
              "       [1.7115036e-08],\n",
              "       [8.9852424e-11],\n",
              "       [1.2294366e-12],\n",
              "       [4.3153809e-04],\n",
              "       [4.2238435e-09],\n",
              "       [1.0789733e-07],\n",
              "       [8.4398835e-08],\n",
              "       [7.1310952e-10],\n",
              "       [9.9999988e-01],\n",
              "       [9.9999952e-01],\n",
              "       [5.1233854e-08],\n",
              "       [9.9999106e-01],\n",
              "       [9.9999666e-01]], dtype=float32)"
            ]
          },
          "metadata": {},
          "execution_count": 37
        }
      ]
    },
    {
      "cell_type": "markdown",
      "source": [
        "## Save Model\n"
      ],
      "metadata": {
        "id": "0h1bPpeHrXh0"
      }
    }
  ],
  "metadata": {
    "colab": {
      "provenance": [],
      "authorship_tag": "ABX9TyNXjvSo6g3f3N6w93BkyNCa",
      "include_colab_link": true
    },
    "kernelspec": {
      "display_name": "Python 3",
      "name": "python3"
    },
    "language_info": {
      "name": "python"
    },
    "accelerator": "GPU",
    "gpuClass": "standard"
  },
  "nbformat": 4,
  "nbformat_minor": 0
}